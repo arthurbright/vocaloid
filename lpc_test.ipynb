{
 "cells": [
  {
   "cell_type": "code",
   "execution_count": 12,
   "metadata": {},
   "outputs": [
    {
     "name": "stdout",
     "output_type": "stream",
     "text": [
      "(93184,)\n",
      "LPC Coefficients: [ 1.         -2.19031335  1.7570239  -0.53499565 -0.29110302  0.07221224\n",
      "  0.40955299 -0.35390338 -0.07011612  0.43851699 -0.23468204]\n"
     ]
    }
   ],
   "source": [
    "import numpy as np\n",
    "import scipy.signal\n",
    "import scipy.io.wavfile as wav\n",
    "\n",
    "def autocorrelation(x, max_lag):\n",
    "    \"\"\"Compute the autocorrelation of a signal.\"\"\"\n",
    "    result = np.correlate(x, x, mode='full')\n",
    "    mid = len(result) // 2\n",
    "    return result[mid:mid + max_lag + 1]\n",
    "\n",
    "def levinson_durbin(r, order):\n",
    "    \"\"\"Solve the Yule-Walker equations using the Levinson-Durbin recursion.\"\"\"\n",
    "    a = np.zeros(order + 1)\n",
    "    e = r[0]  # Initial error\n",
    "\n",
    "    if e == 0:\n",
    "        return a, e\n",
    "\n",
    "    a[0] = 1  # LPC coefficient a0 is always 1\n",
    "    for i in range(1, order + 1):\n",
    "        acc = np.sum(a[:i] * r[i:0:-1])  # Compute reflection coefficient\n",
    "        k = -acc / e  # Reflection coefficient\n",
    "        a[1:i + 1] += k * a[i - 1::-1]  # Update coefficients\n",
    "        e *= (1 - k ** 2)  # Update error\n",
    "\n",
    "    return a, e\n",
    "\n",
    "def lpc_analysis(signal, order):\n",
    "    \"\"\"Compute LPC coefficients for a given signal.\"\"\"\n",
    "    r = autocorrelation(signal, order)\n",
    "    return levinson_durbin(r, order)\n",
    "\n",
    "def synthesize_lpc(signal, lpc_coeffs):\n",
    "    \"\"\"Reconstruct signal using LPC coefficients (inverse filtering).\"\"\"\n",
    "    return scipy.signal.lfilter([0] + -lpc_coeffs[1:], [1], signal)\n",
    "\n",
    "from scipy.io.wavfile import read\n",
    "if __name__ == \"__main__\":\n",
    "    # Example: Load or generate a test signal\n",
    "    fs = 8000  # Sample rate\n",
    "    t = np.linspace(0, 1, fs, endpoint=False)\n",
    "    # signal = np.sin(2 * np.pi * 200 * t) + 0.5 * np.random.randn(len(t))  # Synthetic speech-like signal\n",
    "    a = read(\"samples/ahh.wav\")\n",
    "    signal = np.array(a[1],dtype=float)\n",
    "    signal = signal[:,0]\n",
    "    print(signal.shape)\n",
    "\n",
    "    lpc_order = 10\n",
    "    lpc_coeffs, error = lpc_analysis(signal, lpc_order)\n",
    "    reconstructed_signal = synthesize_lpc(signal, lpc_coeffs)\n",
    "\n",
    "    print(\"LPC Coefficients:\", lpc_coeffs)\n"
   ]
  },
  {
   "cell_type": "code",
   "execution_count": 13,
   "metadata": {},
   "outputs": [],
   "source": [
    "import soundfile as sf\n",
    "import sounddevice as sd\n",
    "\n",
    "\n",
    "sd.play(reconstructed_signal, fs)"
   ]
  }
 ],
 "metadata": {
  "kernelspec": {
   "display_name": "base",
   "language": "python",
   "name": "python3"
  },
  "language_info": {
   "codemirror_mode": {
    "name": "ipython",
    "version": 3
   },
   "file_extension": ".py",
   "mimetype": "text/x-python",
   "name": "python",
   "nbconvert_exporter": "python",
   "pygments_lexer": "ipython3",
   "version": "3.12.4"
  }
 },
 "nbformat": 4,
 "nbformat_minor": 2
}
