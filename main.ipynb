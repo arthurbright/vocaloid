{
 "cells": [
  {
   "cell_type": "markdown",
   "metadata": {},
   "source": [
    "# P1\n",
    "### Arthur Bright"
   ]
  },
  {
   "cell_type": "markdown",
   "metadata": {},
   "source": [
    "# Imports"
   ]
  },
  {
   "cell_type": "code",
   "execution_count": 28,
   "metadata": {},
   "outputs": [],
   "source": [
    "import matplotlib.pyplot as plt\n",
    "import numpy as np\n",
    "import soundfile as sf\n",
    "import sounddevice as sd\n",
    "import scipy\n",
    "import pickle\n",
    "%matplotlib qt5"
   ]
  },
  {
   "cell_type": "markdown",
   "metadata": {},
   "source": [
    "# Representation of Sung Notes"
   ]
  },
  {
   "cell_type": "code",
   "execution_count": 9,
   "metadata": {},
   "outputs": [],
   "source": [
    "# Convert a piano note's index into a frequency (using equal temperament)\n",
    "#eg A0 = 0, A#0 = 1, etc\n",
    "def piano(ind: int):\n",
    "    assert(isinstance(ind, int))\n",
    "    assert(ind >= 0)\n",
    "    # using A4 = 440, we have A0 = 440/16 = 27.5\n",
    "    return 27.5 * (2**(ind/12))\n",
    "\n",
    "# A class to represent a frequency, but can be instantiated using a piano note index as well.\n",
    "class Freq:\n",
    "    def __init__(self, freq):\n",
    "        assert(isinstance(freq, float) or isinstance(freq, int))\n",
    "        assert(freq > 0)\n",
    "        self.v = float(freq)\n",
    "\n",
    "    def __str__(self):\n",
    "        return str(self.v)\n",
    "\n",
    "\n",
    "# A class to represent a phoneme. Currently only supports a subset of japanese language\n",
    "class Phoneme:\n",
    "    consonants =   [\"k\", \"g\", \"s\", \"z\", \"t\", \"d\", \"n\", \"h\", \"b\", \"p\", \"m\", \"r\", \"w\", \"j\"]\n",
    "    plosives =     [\"p\", \"t\", \"b\", \"d\", \"g\", \"k\"]\n",
    "    fricatives =   [\"s\", \"z\", \"h\"]\n",
    "    nasals =       [\"m\", \"n\"]\n",
    "    approximants = [\"w\", \"r\", \"j\"]\n",
    "    assert((set(plosives) | set(fricatives) | set(nasals) | set(approximants)) == set(consonants))\n",
    "\n",
    "    vowels =       [\"a\", \"o\", \"u\", \"i\", \"e\"]\n",
    "\n",
    "    def __init__(self, s: str):\n",
    "        assert(s in self.consonants or s in self.vowels)\n",
    "        self.v = s\n",
    "\n",
    "    def __str__(self):\n",
    "        return str(self.v)\n",
    "\n",
    "\n",
    "# A class to represent a syllable. Captures a consonant + vowel OR lone vowel\n",
    "class Syllable:\n",
    "    def __init__(self, vowel: Phoneme, cons: Phoneme = None):\n",
    "        assert(isinstance(vowel, Phoneme))\n",
    "        assert(vowel.v in Phoneme.vowels)\n",
    "        if (cons is not None):\n",
    "            assert(isinstance(cons, Phoneme))\n",
    "            assert(cons.v in Phoneme.consonants)\n",
    "        self.vowel = vowel\n",
    "        self.cons = cons\n",
    "\n",
    "    def __str__(self):\n",
    "        if(self.cons):\n",
    "            return str(self.cons) + str(self.vowel)\n",
    "        return str(self.vowel)\n",
    "    \n",
    "    def of_str(s : str):\n",
    "        if len(s) == 1:\n",
    "            return Syllable(vowel=Phoneme(s))\n",
    "        elif len(s) == 2:\n",
    "            return Syllable(vowel=Phoneme(s[1]), cons=Phoneme(s[0]))\n",
    "        else:\n",
    "            return ValueError(f\"Illegal representation of syllable: {str(s)}\")\n",
    "\n",
    "# A class to represent a sung note, which includes a (fundamental) frequency, syllable, and duration.\n",
    "class Note:\n",
    "    def __init__(self, f : Freq, s: Syllable, duration: float):\n",
    "        assert(isinstance(f, Freq) and isinstance(s, Syllable) and isinstance(duration, float))\n",
    "        self.f = f\n",
    "        self.s = s\n",
    "        self.duration = duration\n",
    "\n",
    "    def __str__(self):\n",
    "        return f\"[{str(self.s)}|{str(self.f)}|{str(self.duration)}]\"\n",
    "\n",
    "# A class to represent a period of silence.\n",
    "class Silence:\n",
    "    def __init__(self, duration: float):\n",
    "        assert(isinstance(duration, float))\n",
    "        self.duration = duration\n",
    "\n",
    "    def __str__(self):\n",
    "        return f\"[Silence {str(self.duration)}]\"\n",
    "    "
   ]
  },
  {
   "cell_type": "code",
   "execution_count": 10,
   "metadata": {},
   "outputs": [
    {
     "name": "stdout",
     "output_type": "stream",
     "text": [
      "440.0\n",
      "a\n",
      "ba\n",
      "[ba|440.0|1.0]\n",
      "[Silence 1.0]\n"
     ]
    }
   ],
   "source": [
    "# TESTER CODE\n",
    "_f1 = Freq(piano(48))\n",
    "print(_f1)\n",
    "\n",
    "_p1 = Phoneme('a')\n",
    "_p2 = Phoneme('b')\n",
    "print(_p1)\n",
    "\n",
    "_s1 = Syllable(_p1, _p2)\n",
    "print(_s1)\n",
    "\n",
    "_n1 = Note(_f1, _s1, 1.0)\n",
    "print(_n1)\n",
    "\n",
    "_sil1 = Silence(1.0)\n",
    "print(_sil1)"
   ]
  },
  {
   "cell_type": "markdown",
   "metadata": {},
   "source": [
    "# Interface to Convert Sung Notes to Signal"
   ]
  },
  {
   "cell_type": "markdown",
   "metadata": {},
   "source": [
    "#### Converting to/from files, and sonification/visualization"
   ]
  },
  {
   "cell_type": "code",
   "execution_count": 44,
   "metadata": {},
   "outputs": [],
   "source": [
    "# helpers to play/write/read audio\n",
    "fs=44100\n",
    "\n",
    "def play_audio(y):\n",
    "    sd.play(y,fs)\n",
    "\n",
    "def write_audio(y, filename):\n",
    "    sf.write(filename+'.wav',y,fs)\n",
    "\n",
    "def read_audio(filename):\n",
    "    y, fs = sf.read(filename +'.wav')\n",
    "    return y\n",
    "\n",
    "def graph_signal(y, start=None, end=None):    \n",
    "    plt.figure()\n",
    "    x = np.arange(len(y))/fs\n",
    "    plt.plot(x, y)\n",
    "    plt.xlim(start, end)\n",
    "\n",
    "def graph_spectrum(y, distance, title=\"\"):\n",
    "    Y = scipy.fft.rfft(y)\n",
    "    plt.figure()\n",
    "    Y = abs(Y)\n",
    "    peaks, _ = scipy.signal.find_peaks(Y, distance=distance)\n",
    "    plt.title(title)\n",
    "    plt.plot(Y)\n",
    "    plt.plot(peaks, Y[peaks], \"x\")\n",
    "\n",
    "    # also graph multiples of the fundamental frequency\n",
    "    space = peaks[1]\n",
    "    a = (np.arange(20) + 1) * space\n",
    "    plt.plot(a, np.zeros_like(a), '2', color='red')\n"
   ]
  },
  {
   "cell_type": "markdown",
   "metadata": {},
   "source": [
    "#### Simple Synthesizer"
   ]
  },
  {
   "cell_type": "code",
   "execution_count": 26,
   "metadata": {},
   "outputs": [],
   "source": [
    "# synthesizer (similar to A2)\n",
    "def simple_synth(f1: Freq, a, phi, T:float):\n",
    "    assert(len(a) == len(phi))\n",
    "\n",
    "    # TODO: rounding; loses information\n",
    "    N=int(T*fs)\n",
    "    t=np.arange(N)/fs\n",
    "\n",
    "    y = np.zeros_like(t)\n",
    "    base = f1.v\n",
    "    for i in range(len(a)):\n",
    "        f = (i + 1) * base\n",
    "        y2 = a[i] * np.cos(2*np.pi*f*t + phi[i])\n",
    "        y += y2\n",
    "\n",
    "    return y\n"
   ]
  },
  {
   "cell_type": "markdown",
   "metadata": {},
   "source": [
    "#### Convert notes to signal"
   ]
  },
  {
   "cell_type": "code",
   "execution_count": 47,
   "metadata": {},
   "outputs": [],
   "source": [
    "# using harmonics from analyzed audio files, synthesize vowels\n",
    "vowel_harmonics = {}\n",
    "with open('vowel_harmonics', 'rb') as file:\n",
    "    vowel_harmonics = pickle.load(file)\n",
    "\n",
    "def convert_vowel(p: Phoneme, f:Freq, duration:float):\n",
    "    assert p.v in Phoneme.vowels\n",
    "    harmonics = vowel_harmonics[p.v]\n",
    "    # TODO: what phases should we use? Temporarily using 0\n",
    "    phases = np.zeros_like(harmonics)\n",
    "\n",
    "    return simple_synth(f, harmonics, phases, duration)\n",
    "\n",
    "\n"
   ]
  },
  {
   "cell_type": "code",
   "execution_count": 18,
   "metadata": {},
   "outputs": [],
   "source": [
    "def convert_note_primitive(note: Note):\n",
    "    # if silence, return 0s\n",
    "    if isinstance(note, Silence):\n",
    "        # TODO: rounding: loses information\n",
    "        N = int(note.duration * fs)\n",
    "        return np.zeros(N)\n",
    "    else:\n",
    "        f = note.f\n",
    "        syllable = note.s\n",
    "        duration = note.duration\n",
    "\n",
    "        # if the syllable is just a vowel\n",
    "        if syllable.cons is None:\n",
    "            return convert_vowel(syllable.vowel, f, duration)\n",
    "        else:\n",
    "            raise NotImplementedError(\"No diphone synthesis implemented yet\")\n",
    "\n",
    "        return simple_synth(f, [1.0], 0, duration)"
   ]
  },
  {
   "cell_type": "code",
   "execution_count": 17,
   "metadata": {},
   "outputs": [],
   "source": [
    "# simply concatenate synthesized notes (very primitive)\n",
    "def convert_notes_primitive(notes: list):\n",
    "    y = np.array([])\n",
    "    for note in notes:\n",
    "        # TODO: this is currently just naive concatenation. Might want to explore overlap/add and fades\n",
    "        y = np.concatenate((y, convert_note_primitive(note)))\n",
    "    return y"
   ]
  },
  {
   "cell_type": "code",
   "execution_count": null,
   "metadata": {},
   "outputs": [],
   "source": [
    "# Tester code\n",
    "_dur = 0.2\n",
    "notes = [\n",
    "    Note(Freq(piano(48)), Syllable.of_str('a'), _dur),\n",
    "    Note(Freq(piano(46)), Syllable.of_str('a'), _dur),\n",
    "    Note(Freq(piano(44)), Syllable.of_str('a'), _dur),\n",
    "    Silence(_dur),\n",
    "    Note(Freq(piano(46)), Syllable.of_str('a'), _dur),\n",
    "    Note(Freq(piano(48)), Syllable.of_str('a'), _dur)\n",
    "]\n",
    "\n",
    "y = convert_notes_primitive(notes)\n",
    "play_audio(y)\n",
    "\n"
   ]
  },
  {
   "cell_type": "code",
   "execution_count": 63,
   "metadata": {},
   "outputs": [],
   "source": [
    "# Tester code\n",
    "_dur = 1.0\n",
    "_dur2 = 0.2\n",
    "notes = [\n",
    "    Note(Freq(piano(32)), Syllable.of_str('a'), _dur),\n",
    "    Silence(_dur2),\n",
    "    Note(Freq(piano(32)), Syllable.of_str('e'), _dur),\n",
    "    Silence(_dur2),\n",
    "    Note(Freq(piano(32)), Syllable.of_str('i'), _dur),\n",
    "    Silence(_dur2),\n",
    "    Note(Freq(piano(32)), Syllable.of_str('o'), _dur),\n",
    "    Silence(_dur2),\n",
    "    Note(Freq(piano(32)), Syllable.of_str('u'), _dur),\n",
    "]\n",
    "\n",
    "y = convert_notes_primitive(notes) * 0.5\n",
    "play_audio(y)\n",
    "\n"
   ]
  },
  {
   "cell_type": "code",
   "execution_count": 64,
   "metadata": {},
   "outputs": [],
   "source": [
    "graph_signal(y, 0, 0.1)\n"
   ]
  },
  {
   "cell_type": "code",
   "execution_count": 50,
   "metadata": {},
   "outputs": [],
   "source": [
    "graph_spectrum(y, distance=300)"
   ]
  },
  {
   "cell_type": "code",
   "execution_count": null,
   "metadata": {},
   "outputs": [],
   "source": [
    "write_audio(y, \"output/vowels\")"
   ]
  }
 ],
 "metadata": {
  "kernelspec": {
   "display_name": "base",
   "language": "python",
   "name": "python3"
  },
  "language_info": {
   "codemirror_mode": {
    "name": "ipython",
    "version": 3
   },
   "file_extension": ".py",
   "mimetype": "text/x-python",
   "name": "python",
   "nbconvert_exporter": "python",
   "pygments_lexer": "ipython3",
   "version": "3.12.4"
  }
 },
 "nbformat": 4,
 "nbformat_minor": 2
}
