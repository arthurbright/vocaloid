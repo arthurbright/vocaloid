{
 "cells": [
  {
   "cell_type": "markdown",
   "metadata": {},
   "source": [
    "# P1\n",
    "### Arthur Bright\n",
    "- project refined,\n",
    "\n",
    "-- suggest a \"minimum viable product\", a baseline project\n",
    "\n",
    "-- suggest how project will be evaluated (what methods you will use, what data you will use, etc.)  At this point you get to set the rules.  Again, you are establishing what you will do to \"complete\" the project.\n",
    "\n",
    "-- provide any stretch goals.\n",
    "\n",
    "\n",
    "- show current progress, any of the following:\n",
    "\n",
    "--> project refinement\n",
    "\n",
    "--> additional citations (paper, data, video links)\n",
    "\n",
    "--> plots of data collected or generated (you can begin exploration in\n",
    "\n",
    "        Audacity, Friture spectrum/waveform analyzer, or anything else)\n",
    "\n",
    "        choosing data representative of what you are working with\n",
    "\n",
    "--> algorithms run on any data, \"working\" or not.\n",
    "\n",
    "--> use of web-based algorithms, collection of results\n"
   ]
  },
  {
   "cell_type": "markdown",
   "metadata": {},
   "source": [
    "# Representation of Sung Notes"
   ]
  },
  {
   "cell_type": "code",
   "execution_count": null,
   "metadata": {},
   "outputs": [],
   "source": [
    "# A class to represent a frequency, but can be instantiated using a piano note index as well.\n",
    "#eg A0 = 0, A#0 = 1, etc\n",
    "class Freq:\n",
    "    def __init__(self, ind=None, freq=None):\n",
    "        if(ind is not None):\n",
    "            assert(isinstance(ind, int))\n",
    "            assert(ind >= 0)\n",
    "            # using A4 = 440, we have A0 = 440/16 = 27.5\n",
    "            self.v = 27.5 * (2**(ind/12))\n",
    "        elif(freq is not None):\n",
    "            assert(isinstance(freq, float) or isinstance(freq, int))\n",
    "            assert(freq > 0)\n",
    "            self.v = float(freq)\n",
    "\n",
    "\n",
    "# A class to represent a phoneme. Currently only supports a subset of japanese language\n",
    "class Phoneme:\n",
    "    consonants =   [\"k\", \"g\", \"s\", \"z\", \"t\", \"d\", \"n\", \"h\", \"b\", \"p\", \"m\", \"r\", \"w\", \"j\"]\n",
    "    plosives =     [\"p\", \"t\", \"b\", \"d\", \"g\", \"k\"]\n",
    "    fricatives =   [\"s\", \"z\", \"h\"]\n",
    "    nasals =       [\"m\", \"n\"]\n",
    "    approximants = [\"w\", \"r\", \"j\"]\n",
    "    assert((set(plosives) | set(fricatives) | set(nasals) | set(approximants)) == set(consonants))\n",
    "\n",
    "    vowels =       [\"a\", \"o\", \"u\", \"i\", \"e\"]\n",
    "\n",
    "    def __init__(self, s):\n",
    "        assert(s in self.consonants or s in self.vowels)\n",
    "        self.v = s\n",
    "\n",
    "\n",
    "# A class to represent a syllable. Captures a consonant + vowel OR lone vowel\n",
    "class Syllable:\n",
    "    def __init__(self, vowel: Phoneme, cons = None):\n",
    "        assert(isinstance(vowel, Phoneme))\n",
    "        assert(vowel.v in Phoneme.vowels)\n",
    "        if (cons is not None):\n",
    "            assert(isinstance(cons, Phoneme))\n",
    "            assert(cons.v in Phoneme.consonants)\n",
    "\n",
    "# A class to represent a sung note, which includes a (fundamental) frequency, syllable, and duration.\n",
    "class Note:\n",
    "    def __init__(self, f : Freq, s: Syllable, duration: float):\n",
    "        assert(isinstance(f, Freq) and isinstance(s, Syllable) and isinstance(duration, float))\n",
    "        self.f = f\n",
    "        self.s = s\n",
    "\n",
    "# A class to represent a period of silence.\n",
    "class Silence:\n",
    "    def __init__(self, duration: float):\n",
    "        assert(isinstance(duration, float))\n",
    "        self.duration = duration"
   ]
  },
  {
   "cell_type": "markdown",
   "metadata": {},
   "source": [
    "# Interface to Convert Sung Notes to Signal"
   ]
  },
  {
   "cell_type": "code",
   "execution_count": null,
   "metadata": {},
   "outputs": [
    {
     "name": "stdout",
     "output_type": "stream",
     "text": [
      "hi\n"
     ]
    }
   ],
   "source": []
  }
 ],
 "metadata": {
  "kernelspec": {
   "display_name": "base",
   "language": "python",
   "name": "python3"
  },
  "language_info": {
   "codemirror_mode": {
    "name": "ipython",
    "version": 3
   },
   "file_extension": ".py",
   "mimetype": "text/x-python",
   "name": "python",
   "nbconvert_exporter": "python",
   "pygments_lexer": "ipython3",
   "version": "3.12.4"
  }
 },
 "nbformat": 4,
 "nbformat_minor": 2
}
