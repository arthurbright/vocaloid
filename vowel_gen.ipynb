{
 "cells": [
  {
   "cell_type": "code",
   "execution_count": 1,
   "metadata": {},
   "outputs": [],
   "source": [
    "import matplotlib.pyplot as plt\n",
    "import numpy as np\n",
    "import soundfile as sf\n",
    "import sounddevice as sd\n",
    "import scipy\n",
    "import pickle\n",
    "import librosa\n",
    "import pyloudnorm as pyln\n",
    "%matplotlib qt5\n",
    "\n",
    "import warnings\n",
    "warnings.filterwarnings(\"ignore\")\n"
   ]
  },
  {
   "cell_type": "markdown",
   "metadata": {},
   "source": [
    "# VOWEL_GEN\n",
    "This notebook encapsulates the functions in `lpc_synth.ipynb` to generate a vowel sound with various different parameters.\n",
    "\n",
    "Main component:\n",
    "- `gen_vowel()`: A function that uses `glottal_filter()` and `noise_filter()` to generate a specified vowel at a certain frequency.  Includes option for volume fluctuations (tremolo), and for adding breathiness to the vowel (air). Finally, normalizes the loudness of the vowel using `pyloudnorm`"
   ]
  },
  {
   "cell_type": "code",
   "execution_count": 25,
   "metadata": {},
   "outputs": [],
   "source": [
    "# import lpc_synth notebook\n",
    "%run lpc_synth.ipynb\n",
    "fs = 44100"
   ]
  },
  {
   "cell_type": "code",
   "execution_count": null,
   "metadata": {},
   "outputs": [],
   "source": [
    "# load the LPC coefficients we previously calculated\n",
    "with open('lpc_coeffs/vowels2', 'rb') as file:\n",
    "    lpc_coeffs = pickle.load(file)\n",
    "\n",
    "# Generate a vowel v.\n",
    "# 0.2 tremolo is a nice value\n",
    "def gen_vowel(v, f0, T, slide = None, tremolo=0.25, air = 0.015, slide2 = None):\n",
    "    lpc = lpc_coeffs[f3[1]][v]\n",
    "    if v in vowels:\n",
    "        lpc_air = lpc_coeffs[f\"{v}_air\"]\n",
    "        y_air = noise_filter(lpc_air, T, magnitude=air)\n",
    "\n",
    "    if slide is None:\n",
    "        slide = FormantSlide(formant_thresh=1000, low_slide_start=0.9, high_slide_start=0.9)\n",
    "\n",
    "    y = glottal_filter(lpc, f0, T, noise=0.012, slide=slide, slide2=slide2)\n",
    "\n",
    "    brown_noise = gen_brown_noise(len(y))\n",
    "    # upscale the noise so it is slower\n",
    "    brown_noise = scipy.signal.resample(brown_noise, 3 * len(y))[0:len(y)] \n",
    "    brown_noise = brown_noise * tremolo + 1\n",
    "\n",
    "    if v in vowels:\n",
    "        y += y_air\n",
    "    y *= brown_noise\n",
    "\n",
    "    meter = pyln.Meter(fs, block_size=0.05)\n",
    "    loudness = meter.integrated_loudness(y)\n",
    "    y = pyln.normalize.loudness(y, loudness, -12.0)\n",
    "\n",
    "    return y"
   ]
  },
  {
   "cell_type": "code",
   "execution_count": null,
   "metadata": {},
   "outputs": [],
   "source": [
    "# y = gen_vowel('i', f0=200, T=2.0)\n",
    "# play_audio(y)"
   ]
  }
 ],
 "metadata": {
  "kernelspec": {
   "display_name": "base",
   "language": "python",
   "name": "python3"
  },
  "language_info": {
   "codemirror_mode": {
    "name": "ipython",
    "version": 3
   },
   "file_extension": ".py",
   "mimetype": "text/x-python",
   "name": "python",
   "nbconvert_exporter": "python",
   "pygments_lexer": "ipython3",
   "version": "3.12.4"
  }
 },
 "nbformat": 4,
 "nbformat_minor": 2
}
