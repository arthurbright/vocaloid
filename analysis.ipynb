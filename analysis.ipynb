{
 "cells": [
  {
   "cell_type": "markdown",
   "metadata": {},
   "source": [
    "# Analysis\n",
    "This notebook is used to analyze sound files and extract spectra, harmonics, formant, etc."
   ]
  },
  {
   "cell_type": "code",
   "execution_count": 19,
   "metadata": {},
   "outputs": [],
   "source": [
    "import matplotlib.pyplot as plt\n",
    "import numpy as np\n",
    "import soundfile as sf\n",
    "import sounddevice as sd\n",
    "import scipy\n",
    "%matplotlib qt5"
   ]
  },
  {
   "cell_type": "code",
   "execution_count": null,
   "metadata": {},
   "outputs": [],
   "source": [
    "# helpers to play/write/read audio\n",
    "fs=44100\n",
    "\n",
    "def play_audio(y):\n",
    "    sd.play(y,fs)\n",
    "\n",
    "def write_audio(y, filename):\n",
    "    sf.write(filename+'.wav',y,fs)\n",
    "\n",
    "def read_audio(filename):\n",
    "    y, fs = sf.read(filename +'.wav')\n",
    "    return y\n",
    "\n",
    "def graph_signal(y, start=None, end=None):    \n",
    "    plt.figure()\n",
    "    x = np.arange(len(y))/fs\n",
    "    plt.plot(x, y)\n",
    "    plt.xlim(start, end)\n",
    "\n",
    "def graph_spectrum(y, distance, title=\"\"):\n",
    "    Y = scipy.fft.rfft(y)\n",
    "    plt.figure()\n",
    "    Y = abs(Y)\n",
    "    peaks, _ = scipy.signal.find_peaks(Y, distance=distance)\n",
    "    plt.title(title)\n",
    "    plt.plot(Y)\n",
    "    plt.plot(peaks, Y[peaks], \"x\")\n",
    "\n",
    "    # also graph multiples of the fundamental frequency\n",
    "    space = peaks[1]\n",
    "    a = (np.arange(20) + 1) * space\n",
    "    plt.plot(a, np.zeros_like(a), '2', color='red')\n",
    "\n",
    "# convert to mono by taking left channel (arbitrary)\n",
    "def to_mono(y):\n",
    "    return y[:,0]\n"
   ]
  },
  {
   "cell_type": "markdown",
   "metadata": {},
   "source": [
    "## Visualize Vowel Formants"
   ]
  },
  {
   "cell_type": "code",
   "execution_count": null,
   "metadata": {},
   "outputs": [
    {
     "name": "stdout",
     "output_type": "stream",
     "text": [
      "0.5571287870407104\n",
      "0.282989501953125\n",
      "0.4012455940246582\n",
      "0.3316342830657959\n",
      "0.4101555347442627\n"
     ]
    }
   ],
   "source": [
    "distance = 300\n",
    "for v in ['a', 'e', 'i', 'o', 'u']:\n",
    "    y = read_audio(f\"./samples/vowel/{v}\")\n",
    "    y = to_mono(y)\n",
    "    graph_spectrum(y, distance, title=v)"
   ]
  },
  {
   "cell_type": "markdown",
   "metadata": {},
   "source": [
    "From the graphs visualized above, we can see each vowel has different levels in harmonics. The harmonics die off after the 15th harmonic, so we will just use the first 17 harmonics. A few of the vowels have a noticable second formant around the 14/15th harmonic.\n",
    "\n",
    "Note that the peaks returned by findpeaks include the 0th harmonic, which we ignore."
   ]
  },
  {
   "cell_type": "code",
   "execution_count": null,
   "metadata": {},
   "outputs": [
    {
     "name": "stdout",
     "output_type": "stream",
     "text": [
      "{'a': array([4.33167806e+03, 2.73146636e+03, 2.07260544e+02, 1.15662739e+02,\n",
      "       2.13538243e+02, 7.35606420e+01, 1.46386735e+01, 9.77919133e+00,\n",
      "       7.21990105e+00, 5.32806084e+00, 3.81312747e+00, 4.21666705e+00,\n",
      "       3.63031098e+00, 1.26496765e+01, 3.29919744e+00, 2.62974010e+00,\n",
      "       2.28709153e+00]), 'e': array([4.33167806e+03, 2.73146636e+03, 2.07260544e+02, 1.15662739e+02,\n",
      "       2.13538243e+02, 7.35606420e+01, 1.46386735e+01, 9.77919133e+00,\n",
      "       7.21990105e+00, 5.32806084e+00, 3.81312747e+00, 4.21666705e+00,\n",
      "       3.63031098e+00, 1.26496765e+01, 3.29919744e+00, 2.62974010e+00,\n",
      "       2.28709153e+00]), 'i': array([4.33167806e+03, 2.73146636e+03, 2.07260544e+02, 1.15662739e+02,\n",
      "       2.13538243e+02, 7.35606420e+01, 1.46386735e+01, 9.77919133e+00,\n",
      "       7.21990105e+00, 5.32806084e+00, 3.81312747e+00, 4.21666705e+00,\n",
      "       3.63031098e+00, 1.26496765e+01, 3.29919744e+00, 2.62974010e+00,\n",
      "       2.28709153e+00]), 'o': array([4.33167806e+03, 2.73146636e+03, 2.07260544e+02, 1.15662739e+02,\n",
      "       2.13538243e+02, 7.35606420e+01, 1.46386735e+01, 9.77919133e+00,\n",
      "       7.21990105e+00, 5.32806084e+00, 3.81312747e+00, 4.21666705e+00,\n",
      "       3.63031098e+00, 1.26496765e+01, 3.29919744e+00, 2.62974010e+00,\n",
      "       2.28709153e+00]), 'u': array([4.33167806e+03, 2.73146636e+03, 2.07260544e+02, 1.15662739e+02,\n",
      "       2.13538243e+02, 7.35606420e+01, 1.46386735e+01, 9.77919133e+00,\n",
      "       7.21990105e+00, 5.32806084e+00, 3.81312747e+00, 4.21666705e+00,\n",
      "       3.63031098e+00, 1.26496765e+01, 3.29919744e+00, 2.62974010e+00,\n",
      "       2.28709153e+00])}\n",
      "4331.67806\n"
     ]
    }
   ],
   "source": [
    "harmonic_levels = {}\n",
    "num_harmonics = 17\n",
    "\n",
    "for v in ['a', 'e', 'i', 'o', 'u']:\n",
    "    Y = scipy.fft.rfft(y)\n",
    "    Y = abs(Y)\n",
    "    peaks, _ = scipy.signal.find_peaks(Y, distance=distance)\n",
    "    peaks = peaks[1:(num_harmonics + 1)]\n",
    "    harmonic_levels[v] = Y[peaks]\n",
    "\n",
    "print(harmonic_levels)"
   ]
  }
 ],
 "metadata": {
  "kernelspec": {
   "display_name": "base",
   "language": "python",
   "name": "python3"
  },
  "language_info": {
   "codemirror_mode": {
    "name": "ipython",
    "version": 3
   },
   "file_extension": ".py",
   "mimetype": "text/x-python",
   "name": "python",
   "nbconvert_exporter": "python",
   "pygments_lexer": "ipython3",
   "version": "3.12.4"
  }
 },
 "nbformat": 4,
 "nbformat_minor": 2
}
