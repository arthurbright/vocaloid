{
 "cells": [
  {
   "cell_type": "markdown",
   "metadata": {},
   "source": [
    "# Analysis\n",
    "This notebook is used to analyze sound files and extract spectra, harmonics, formant, etc."
   ]
  },
  {
   "cell_type": "code",
   "execution_count": 1,
   "metadata": {},
   "outputs": [],
   "source": [
    "import matplotlib.pyplot as plt\n",
    "import numpy as np\n",
    "import soundfile as sf\n",
    "import sounddevice as sd\n",
    "import scipy\n",
    "import pickle\n",
    "%matplotlib qt5"
   ]
  },
  {
   "cell_type": "code",
   "execution_count": null,
   "metadata": {},
   "outputs": [],
   "source": [
    "# helpers to play/write/read audio\n",
    "fs=44100\n",
    "\n",
    "def play_audio(y):\n",
    "    sd.play(y,fs)\n",
    "\n",
    "def write_audio(y, filename):\n",
    "    sf.write(filename+'.wav',y,fs)\n",
    "\n",
    "def read_audio(filename):\n",
    "    y, fs = sf.read(filename +'.wav')\n",
    "    return y\n",
    "\n",
    "def graph_signal(y, start=None, end=None):    \n",
    "    plt.figure()\n",
    "    x = np.arange(len(y))/fs\n",
    "    plt.plot(x, y)\n",
    "    plt.xlim(start, end)\n",
    "\n",
    "\n",
    "def estimate_f(y, distance):\n",
    "    Y = scipy.fft.rfft(y)\n",
    "    Y = abs(Y)\n",
    "    peaks, _ = scipy.signal.find_peaks(Y, distance=distance)\n",
    "    # estimate fundamental frequency from first few peaks\n",
    "    f_est = []\n",
    "    for i in range(1, 6):\n",
    "        f_est.append(peaks[i]/i)\n",
    "    f_est = np.mean(f_est)\n",
    "    return f_est\n",
    "\n",
    "\n",
    "def graph_spectrum(y, distance, title=\"\", find_peaks=True):\n",
    "    Y = scipy.fft.rfft(y)\n",
    "    plt.figure()\n",
    "    Y = abs(Y)\n",
    "    peaks, _ = scipy.signal.find_peaks(Y, distance=distance)\n",
    "    # estimate fundamental frequency from first few peaks\n",
    "    f_est = estimate_f(y, distance)\n",
    "\n",
    "    plt.title(title)\n",
    "    plt.plot(Y)\n",
    "    if find_peaks:\n",
    "        plt.plot(peaks, Y[peaks], \"x\")\n",
    "\n",
    "        # also graph multiples of the fundamental frequency\n",
    "        a = (np.arange(50) + 1) * f_est\n",
    "        plt.plot(a, np.zeros_like(a), '2', color='red')\n",
    "\n",
    "# convert to mono by taking left channel (arbitrary)\n",
    "def to_mono(y):\n",
    "    return y[:,0]\n"
   ]
  },
  {
   "cell_type": "markdown",
   "metadata": {},
   "source": [
    "## Visualize Vowel Formants"
   ]
  },
  {
   "cell_type": "code",
   "execution_count": 12,
   "metadata": {},
   "outputs": [],
   "source": [
    "distance = 300\n",
    "for v in ['a', 'e', 'i', 'o', 'u']:\n",
    "    y = read_audio(f\"./samples/vowel/{v}\")\n",
    "    y = to_mono(y)\n",
    "    graph_spectrum(y, distance, title=v)"
   ]
  },
  {
   "cell_type": "markdown",
   "metadata": {},
   "source": [
    "From the graphs visualized above, we can see each vowel has different levels in harmonics. A few of the vowels have a noticable second formant around the 14/15th harmonic.\n",
    "\n",
    "Note that the peaks returned by findpeaks include the 0th harmonic, which we ignore."
   ]
  },
  {
   "cell_type": "code",
   "execution_count": 20,
   "metadata": {},
   "outputs": [
    {
     "name": "stdout",
     "output_type": "stream",
     "text": [
      "Wrote vowel harmonic levels to file 'harmonic_levels'.\n",
      "{'a': array([1.00000000e+00, 4.42244914e-01, 2.70963303e-01, 1.44519217e-01,\n",
      "       1.56575463e-01, 5.71197326e-02, 1.79931824e-01, 1.30866394e-01,\n",
      "       2.07228168e-02, 3.26827928e-02, 1.44939360e-02, 5.99529124e-03,\n",
      "       9.25250944e-03, 4.94949776e-02, 9.10186052e-03, 1.93492759e-03,\n",
      "       2.24668081e-03, 9.40916662e-04, 6.84528764e-04, 7.46287146e-04,\n",
      "       8.27972388e-04, 3.56528881e-03, 4.14686178e-03, 1.71764115e-03,\n",
      "       7.89951247e-04, 1.22531336e-03, 9.45679493e-04, 1.01899164e-03,\n",
      "       1.61559440e-03, 3.74731164e-03, 5.96533992e-03, 3.46427925e-03,\n",
      "       5.31793711e-03, 5.45900714e-03, 1.09682206e-02, 4.25812799e-03,\n",
      "       3.08313407e-03, 2.38754090e-03, 2.99942090e-03, 1.55239116e-03]), 'e': array([1.00000000e+00, 7.09075375e-01, 2.91944480e-01, 8.93113038e-02,\n",
      "       8.42916607e-02, 2.53495025e-02, 1.59266422e-02, 5.83055033e-02,\n",
      "       9.50779930e-02, 1.90206251e-02, 1.37401617e-02, 1.11471728e-02,\n",
      "       2.45177226e-03, 1.62763021e-02, 7.14625822e-03, 9.97373863e-04,\n",
      "       7.38126027e-04, 5.80527033e-04, 3.39714192e-04, 3.55743375e-04,\n",
      "       1.58652698e-03, 4.02607915e-03, 2.11666449e-03, 1.62618335e-03,\n",
      "       7.53537640e-04, 1.25880138e-03, 7.13930300e-04, 1.74893212e-03,\n",
      "       1.31398545e-03, 4.68346841e-03, 2.15417557e-03, 1.98533825e-03,\n",
      "       3.66990428e-03, 6.86514356e-03, 5.93294426e-03, 2.43839968e-03,\n",
      "       1.38881551e-03, 2.75923060e-03, 2.11790887e-03, 1.34788541e-03]), 'i': array([1.00000000e+00, 3.58734949e-01, 5.67327682e-02, 2.00292439e-02,\n",
      "       7.20194663e-03, 1.00627698e-02, 4.47768903e-03, 1.16749850e-03,\n",
      "       1.64585275e-03, 1.38811689e-03, 8.99514854e-04, 1.20915894e-02,\n",
      "       2.96753568e-02, 2.87567068e-02, 5.35037203e-03, 3.38242981e-03,\n",
      "       1.27579470e-03, 8.21943333e-04, 1.63380943e-03, 2.29315626e-03,\n",
      "       4.25873232e-03, 2.46954382e-03, 1.33958665e-03, 4.07413053e-03,\n",
      "       2.26835500e-03, 4.63856979e-03, 2.06961384e-03, 3.39325268e-03,\n",
      "       3.62479867e-03, 9.46785282e-03, 7.85209485e-03, 8.89266208e-03,\n",
      "       4.37639935e-03, 2.27377492e-03, 1.99597065e-03, 1.34064690e-03,\n",
      "       2.53316709e-03, 4.02523708e-03, 2.75471751e-03, 5.36614833e-04]), 'o': array([1.00000000e+00, 3.75353181e-01, 2.09521668e-01, 8.07667935e-02,\n",
      "       5.81531304e-02, 9.19821977e-02, 9.53650642e-03, 9.10827595e-03,\n",
      "       2.60713121e-03, 3.01950893e-03, 2.90055404e-03, 2.84563606e-03,\n",
      "       1.21845010e-03, 7.07003136e-03, 4.91247552e-03, 1.08417644e-03,\n",
      "       7.37318106e-04, 3.15577967e-04, 3.81517115e-04, 7.92713982e-04,\n",
      "       3.48019541e-03, 3.43646336e-04, 2.93641995e-04, 2.25323009e-04,\n",
      "       1.44561411e-04, 2.58058381e-04, 2.33621494e-04, 6.61429803e-04,\n",
      "       1.23581409e-03, 1.52422080e-03, 6.15625296e-04, 8.44887738e-04,\n",
      "       3.17795264e-03, 5.29803639e-04, 6.90384340e-04, 3.89994387e-04,\n",
      "       2.31191136e-04, 5.84524557e-04, 6.91657667e-04, 4.37482638e-04]), 'u': array([1.00000000e+00, 6.30579264e-01, 4.78476335e-02, 2.67016009e-02,\n",
      "       4.92968869e-02, 1.69820197e-02, 3.37944634e-03, 2.25759883e-03,\n",
      "       1.66676770e-03, 1.23002235e-03, 8.80288752e-04, 9.73448857e-04,\n",
      "       8.38084209e-04, 2.92027163e-03, 7.61644193e-04, 6.14947903e-04,\n",
      "       5.27992039e-04, 3.92338442e-04, 4.48504462e-04, 4.99747907e-04,\n",
      "       5.55433155e-04, 5.10447993e-04, 1.23999323e-03, 5.82471281e-04,\n",
      "       2.86623394e-04, 4.93342668e-04, 4.09207350e-04, 1.19187870e-03,\n",
      "       1.22584945e-03, 5.62350048e-04, 4.37354727e-04, 4.87385649e-04,\n",
      "       8.35610121e-04, 1.22676561e-03, 3.71798234e-04, 2.93784528e-04,\n",
      "       3.08308387e-04, 5.53719271e-04, 3.59798289e-04, 2.05226788e-04])}\n"
     ]
    }
   ],
   "source": [
    "harmonic_levels = {}\n",
    "num_harmonics = 40\n",
    "\n",
    "for v in ['a', 'e', 'i', 'o', 'u']:\n",
    "    y = read_audio(f\"./samples/vowel/{v}\")\n",
    "    y = to_mono(y)\n",
    "    Y = scipy.fft.rfft(y)\n",
    "    Y = abs(Y)\n",
    "    # Old method: find peaks to find harmonic locations\n",
    "    # peaks, _ = scipy.signal.find_peaks(Y, distance=distance)\n",
    "    # peaks = peaks[1:(num_harmonics + 1)]\n",
    "    \n",
    "    # new method: estimate fundamental freq to get harmonic locations\n",
    "    f_est = estimate_f(y, distance)\n",
    "    peaks = (np.arange(num_harmonics) + 1) * f_est\n",
    "    peaks = np.round(peaks).astype(int)\n",
    "\n",
    "    # to get amplitude of harmonic, take maximum amplitude within a small radius\n",
    "    RADIUS = 150\n",
    "    levels = [max(Y[peak - RADIUS:peak + RADIUS]) for peak in peaks]\n",
    "    # levels = Y[peaks]\n",
    "    harmonic_levels[v] = levels/levels[0]\n",
    "\n",
    "with open('vowel_harmonics_40', 'wb') as f:\n",
    "    pickle.dump(harmonic_levels, f)\n",
    "print(\"Wrote vowel harmonic levels to file 'harmonic_levels'.\")\n",
    "\n",
    "print(harmonic_levels)"
   ]
  },
  {
   "cell_type": "markdown",
   "metadata": {},
   "source": [
    "# Visualize Consonants (failed)\n",
    "Starting with the /s/ phoneme"
   ]
  },
  {
   "cell_type": "code",
   "execution_count": 64,
   "metadata": {},
   "outputs": [],
   "source": [
    "y = read_audio(f\"./samples/consonant/s\")\n",
    "y = to_mono(y)\n",
    "\n",
    "Y = scipy.fft.rfft(y)\n",
    "low = 1000\n",
    "high = 20000\n",
    "# Y[0:low] = 0 * Y[0:low]\n",
    "Y[high:] = 0 * Y[high:]\n",
    "graph_spectrum(y, 300, find_peaks=False)\n",
    "\n",
    "n = len(Y)\n",
    "Y2 = np.random.normal(0, 1, n) * 100\n",
    "X = np.arange(n).astype(float)\n",
    "\n",
    "sc = np.maximum(np.zeros_like(X), (5000 - X) * (X - 20000) / (7500**2))\n",
    "Y2 = Y2 * sc\n",
    "plt.figure()\n",
    "plt.plot(Y2)\n",
    "\n",
    "y2 = scipy.fft.irfft(Y2, len(y))\n",
    "# plt.figure()\n",
    "# plt.plot(y2)\n",
    "play_audio(y2)\n",
    "write_audio(y2, \"output/s\")"
   ]
  },
  {
   "cell_type": "code",
   "execution_count": null,
   "metadata": {},
   "outputs": [],
   "source": []
  }
 ],
 "metadata": {
  "kernelspec": {
   "display_name": "base",
   "language": "python",
   "name": "python3"
  },
  "language_info": {
   "codemirror_mode": {
    "name": "ipython",
    "version": 3
   },
   "file_extension": ".py",
   "mimetype": "text/x-python",
   "name": "python",
   "nbconvert_exporter": "python",
   "pygments_lexer": "ipython3",
   "version": "3.12.4"
  }
 },
 "nbformat": 4,
 "nbformat_minor": 2
}
