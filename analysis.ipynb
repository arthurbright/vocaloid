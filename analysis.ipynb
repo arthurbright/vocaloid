{
 "cells": [
  {
   "cell_type": "markdown",
   "metadata": {},
   "source": [
    "# Analysis\n",
    "This notebook is used to analyze sound files and extract spectra, harmonics, formant, etc."
   ]
  },
  {
   "cell_type": "code",
   "execution_count": 54,
   "metadata": {},
   "outputs": [],
   "source": [
    "import matplotlib.pyplot as plt\n",
    "import numpy as np\n",
    "import soundfile as sf\n",
    "import sounddevice as sd\n",
    "import scipy\n",
    "import pickle\n",
    "%matplotlib qt5"
   ]
  },
  {
   "cell_type": "code",
   "execution_count": null,
   "metadata": {},
   "outputs": [],
   "source": [
    "# helpers to play/write/read audio\n",
    "fs=44100\n",
    "\n",
    "def play_audio(y):\n",
    "    sd.play(y,fs)\n",
    "\n",
    "def write_audio(y, filename):\n",
    "    sf.write(filename+'.wav',y,fs)\n",
    "\n",
    "def read_audio(filename):\n",
    "    y, fs = sf.read(filename +'.wav')\n",
    "    return y\n",
    "\n",
    "def graph_signal(y, start=None, end=None):    \n",
    "    plt.figure()\n",
    "    x = np.arange(len(y))/fs\n",
    "    plt.plot(x, y)\n",
    "    plt.xlim(start, end)\n",
    "\n",
    "def graph_spectrum(y, distance, title=\"\"):\n",
    "    Y = scipy.fft.rfft(y)\n",
    "    plt.figure()\n",
    "    Y = abs(Y)\n",
    "    peaks, _ = scipy.signal.find_peaks(Y, distance=distance)\n",
    "    plt.title(title)\n",
    "    plt.plot(Y)\n",
    "    plt.plot(peaks, Y[peaks], \"x\")\n",
    "\n",
    "    # also graph multiples of the fundamental frequency\n",
    "    space = peaks[1]\n",
    "    a = (np.arange(20) + 1) * space\n",
    "    plt.plot(a, np.zeros_like(a), '2', color='red')\n",
    "\n",
    "# convert to mono by taking left channel (arbitrary)\n",
    "def to_mono(y):\n",
    "    return y[:,0]\n"
   ]
  },
  {
   "cell_type": "markdown",
   "metadata": {},
   "source": [
    "## Visualize Vowel Formants"
   ]
  },
  {
   "cell_type": "code",
   "execution_count": 52,
   "metadata": {},
   "outputs": [],
   "source": [
    "distance = 300\n",
    "for v in ['a', 'e', 'i', 'o', 'u']:\n",
    "    y = read_audio(f\"./samples/vowel/{v}\")\n",
    "    y = to_mono(y)\n",
    "    graph_spectrum(y, distance, title=v)"
   ]
  },
  {
   "cell_type": "markdown",
   "metadata": {},
   "source": [
    "From the graphs visualized above, we can see each vowel has different levels in harmonics. The harmonics die off after the 15th harmonic, so we will just use the first 17 harmonics. A few of the vowels have a noticable second formant around the 14/15th harmonic.\n",
    "\n",
    "Note that the peaks returned by findpeaks include the 0th harmonic, which we ignore."
   ]
  },
  {
   "cell_type": "code",
   "execution_count": null,
   "metadata": {},
   "outputs": [
    {
     "name": "stdout",
     "output_type": "stream",
     "text": [
      "{'a': array([1.        , 0.44224491, 0.2709633 , 0.14451922, 0.15657546,\n",
      "       0.05711973, 0.17993182, 0.13086639, 0.02072282, 0.03268279,\n",
      "       0.01449394, 0.00599529, 0.00925251, 0.04949498, 0.00910186,\n",
      "       0.00193493, 0.00224668]), 'e': array([1.00000000e+00, 7.09075375e-01, 2.91944480e-01, 8.93113038e-02,\n",
      "       8.42916607e-02, 2.53495025e-02, 1.59266422e-02, 5.83055033e-02,\n",
      "       9.50779930e-02, 1.90206251e-02, 1.37401617e-02, 1.11471728e-02,\n",
      "       2.45177226e-03, 1.62763021e-02, 7.14625822e-03, 9.97373863e-04,\n",
      "       7.38126027e-04]), 'i': array([1.00000000e+00, 3.58734949e-01, 5.67327682e-02, 2.00292439e-02,\n",
      "       7.20194663e-03, 1.00627698e-02, 4.47768903e-03, 1.16749850e-03,\n",
      "       1.64585275e-03, 1.38811689e-03, 8.99514854e-04, 1.20915894e-02,\n",
      "       2.96753568e-02, 1.99762786e-02, 5.35037203e-03, 3.38242981e-03,\n",
      "       9.54795803e-04]), 'o': array([1.00000000e+00, 3.75353181e-01, 2.09521668e-01, 8.07667935e-02,\n",
      "       5.81531304e-02, 9.19821977e-02, 9.53650642e-03, 9.10827595e-03,\n",
      "       2.60713121e-03, 3.01950893e-03, 2.90055404e-03, 2.84563606e-03,\n",
      "       1.21845010e-03, 7.07003136e-03, 4.91247552e-03, 1.08417644e-03,\n",
      "       7.37318106e-04]), 'u': array([1.00000000e+00, 6.30579264e-01, 4.78476335e-02, 2.67016009e-02,\n",
      "       4.92968869e-02, 1.69820197e-02, 3.37944634e-03, 2.25759883e-03,\n",
      "       1.66676770e-03, 1.23002235e-03, 8.80288752e-04, 9.73448857e-04,\n",
      "       8.38084209e-04, 2.92027163e-03, 7.61644193e-04, 6.07095002e-04,\n",
      "       5.27992039e-04])}\n"
     ]
    }
   ],
   "source": [
    "harmonic_levels = {}\n",
    "num_harmonics = 17\n",
    "\n",
    "for v in ['a', 'e', 'i', 'o', 'u']:\n",
    "    y = read_audio(f\"./samples/vowel/{v}\")\n",
    "    y = to_mono(y)\n",
    "    Y = scipy.fft.rfft(y)\n",
    "    Y = abs(Y)\n",
    "    peaks, _ = scipy.signal.find_peaks(Y, distance=distance)\n",
    "    peaks = peaks[1:(num_harmonics + 1)]\n",
    "\n",
    "    levels = Y[peaks]\n",
    "    harmonic_levels[v] = levels/levels[0]\n",
    "\n",
    "with open('vowel_harmonics', 'wb') as f:\n",
    "    pickle.dump(harmonic_levels, f)\n",
    "print(\"Wrote vowel harmonic levels to file 'harmonic_levels'.\")\n",
    "\n",
    "print(harmonic_levels)"
   ]
  }
 ],
 "metadata": {
  "kernelspec": {
   "display_name": "base",
   "language": "python",
   "name": "python3"
  },
  "language_info": {
   "codemirror_mode": {
    "name": "ipython",
    "version": 3
   },
   "file_extension": ".py",
   "mimetype": "text/x-python",
   "name": "python",
   "nbconvert_exporter": "python",
   "pygments_lexer": "ipython3",
   "version": "3.12.4"
  }
 },
 "nbformat": 4,
 "nbformat_minor": 2
}
